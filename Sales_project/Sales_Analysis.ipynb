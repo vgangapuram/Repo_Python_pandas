{
  "nbformat": 4,
  "nbformat_minor": 0,
  "metadata": {
    "colab": {
      "provenance": [],
      "authorship_tag": "ABX9TyMsWBXZ2x08+sdo+R0aFWZV"
    },
    "kernelspec": {
      "name": "python3",
      "display_name": "Python 3"
    },
    "language_info": {
      "name": "python"
    }
  },
  "cells": [
    {
      "cell_type": "markdown",
      "source": [],
      "metadata": {
        "id": "PVeGxgwrgxMI"
      }
    },
    {
      "cell_type": "code",
      "execution_count": null,
      "metadata": {
        "id": "7GnmJrLFU0IH"
      },
      "outputs": [],
      "source": [
        "# Analyze Sales Data"
      ]
    },
    {
      "cell_type": "markdown",
      "source": [],
      "metadata": {
        "id": "zHGNU9Nqg30C"
      }
    },
    {
      "cell_type": "markdown",
      "source": [
        "#Read the CSV file using pandas."
      ],
      "metadata": {
        "id": "p2sl2-3_aX12"
      }
    },
    {
      "cell_type": "code",
      "source": [
        "import pandas as pd\n",
        "data={\n",
        "    'OrderId':[1001,1002,1003,1004,1005],\n",
        "    'Product':['Apple','Banana','Apple','Orange','Banana'],\n",
        "    'Quantity':[2,5,3,4,6],\n",
        "    'Price':[30,10,30,20,10]\n",
        "}\n",
        "#all the arrays should be of same size.\n",
        "df=pd.DataFrame(data)\n",
        "df.to_csv('sales.csv',index=False)\n"
      ],
      "metadata": {
        "id": "pvVczRESU-sf"
      },
      "execution_count": null,
      "outputs": []
    },
    {
      "cell_type": "markdown",
      "source": [
        "#Calculate the total revenue for each product."
      ],
      "metadata": {
        "id": "9C1k7nyvadv1"
      }
    },
    {
      "cell_type": "code",
      "source": [
        "#add a new column  revenue= Quantity * Price\n",
        "df['Revenue']=df['Quantity']*df['Price']\n",
        "print(df['Revenue'])"
      ],
      "metadata": {
        "colab": {
          "base_uri": "https://localhost:8080/"
        },
        "id": "HG761QCmaVAO",
        "outputId": "ba4e358c-9e35-4eda-e841-f8c561c1ecf9"
      },
      "execution_count": null,
      "outputs": [
        {
          "output_type": "stream",
          "name": "stdout",
          "text": [
            "0    60\n",
            "1    50\n",
            "2    90\n",
            "3    80\n",
            "4    60\n",
            "Name: Revenue, dtype: int64\n"
          ]
        }
      ]
    },
    {
      "cell_type": "code",
      "source": [
        "#Total Revenue\n",
        "total_Revenue=df['Revenue'].sum()\n",
        "print('Total Revenue is:',total_Revenue)"
      ],
      "metadata": {
        "colab": {
          "base_uri": "https://localhost:8080/"
        },
        "id": "qAazD7Q1ewyz",
        "outputId": "57d73a6d-b45f-40f3-9761-c4e3e4d441a1"
      },
      "execution_count": null,
      "outputs": [
        {
          "output_type": "stream",
          "name": "stdout",
          "text": [
            "Total Revenue is: 340\n"
          ]
        }
      ]
    },
    {
      "cell_type": "markdown",
      "source": [
        "#Find the product with the highest total revenue."
      ],
      "metadata": {
        "id": "I9Ns4WJXcsOC"
      }
    },
    {
      "cell_type": "code",
      "source": [
        "# Group by 'Product' and calculate total revenue\n",
        "group_revenue = df.groupby('Product')\n",
        "product_revenue=group_revenue['Revenue'].sum().reset_index()\n",
        "\n"
      ],
      "metadata": {
        "id": "4vmIvBwBcdPT"
      },
      "execution_count": null,
      "outputs": []
    },
    {
      "cell_type": "code",
      "source": [
        "# Find the product with the highest total revenue\n",
        "# idxmax()-Returns the index of the row with the highest value\n",
        "#loc()-Access a group of rows and columns by label(s) or a boolean array.\n",
        "top_product= product_revenue.loc[product_revenue['Revenue'].idxmax()]\n",
        "print(top_product)"
      ],
      "metadata": {
        "colab": {
          "base_uri": "https://localhost:8080/"
        },
        "id": "1MsnSc8rhfnm",
        "outputId": "e8edfe40-58a0-437f-d6b6-56ffe174e7c0"
      },
      "execution_count": null,
      "outputs": [
        {
          "output_type": "stream",
          "name": "stdout",
          "text": [
            "Product    Apple\n",
            "Revenue      150\n",
            "Name: 0, dtype: object\n"
          ]
        }
      ]
    },
    {
      "cell_type": "code",
      "source": [],
      "metadata": {
        "id": "N0G5tW7tjkmQ"
      },
      "execution_count": null,
      "outputs": []
    }
  ]
}