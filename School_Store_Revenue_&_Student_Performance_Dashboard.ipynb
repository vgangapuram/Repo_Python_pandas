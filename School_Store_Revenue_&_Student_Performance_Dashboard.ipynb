{
  "nbformat": 4,
  "nbformat_minor": 0,
  "metadata": {
    "colab": {
      "provenance": [],
      "authorship_tag": "ABX9TyNhyLYRQB9HdkxIhrEso2PJ",
      "include_colab_link": true
    },
    "kernelspec": {
      "name": "python3",
      "display_name": "Python 3"
    },
    "language_info": {
      "name": "python"
    }
  },
  "cells": [
    {
      "cell_type": "markdown",
      "metadata": {
        "id": "view-in-github",
        "colab_type": "text"
      },
      "source": [
        "<a href=\"https://colab.research.google.com/github/vgangapuram/Repo_Python_pandas/blob/main/School_Store_Revenue_%26_Student_Performance_Dashboard.ipynb\" target=\"_parent\"><img src=\"https://colab.research.google.com/assets/colab-badge.svg\" alt=\"Open In Colab\"/></a>"
      ]
    },
    {
      "cell_type": "markdown",
      "source": [
        "Project Description:\n",
        "\n",
        "You are managing a school that tracks both student exam performance and sales from the school store. You need to analyze both and build a unified report that provides:\n",
        "\n",
        "Academic performance insights of students\n",
        "Contribution of each student to store sales\n",
        "A combined view showing how well students are performing academically and economically (via purchases)"
      ],
      "metadata": {
        "id": "_ieerCYV9Iwb"
      }
    },
    {
      "cell_type": "markdown",
      "source": [
        "Project Requirements\n",
        "\n",
        "🗂️ Inputs (CSV Files)\n",
        "students.csv\n",
        "Name,Math,Science,English\n",
        "Alice,85,78,92\n",
        "Bob,65,70,60\n",
        "Charlie,95,88,90\n",
        "David,40,50,45\n",
        "Eva,76,85,80\n",
        "\n",
        "sales.csv\n",
        "OrderID,Student,Item,Quantity,Price\n",
        "101,Alice,Notebook,2,50\n",
        "102,Bob,Pencil,5,10\n",
        "103,Alice,Pen,1,30\n",
        "104,Charlie,Notebook,3,50\n",
        "105,Eva,Pen,2,30\n",
        "Tasks to Implement:\n",
        "Load both CSV files using pandas.\n",
        "Calculate average score per student and assign a \"Result\" (Distinction, Pass, Fail).\n",
        "Calculate total store spending per student (Quantity × Price).\n",
        "Merge both datasets using the \"Name\"/\"Student\" column to create a unified report.\n",
        "Add a column \"High Spender\" if spending > ₹100.\n",
        "Save the final merged DataFrame to a new file: student_dashboard.csv."
      ],
      "metadata": {
        "id": "7AKSieE89W4r"
      }
    },
    {
      "cell_type": "code",
      "source": [
        "data = \"\"\"OrderID,Student,Item,Quantity,Price\n",
        "101,Alice,Notebook,2,50\n",
        "102,Bob,Pencil,5,10\n",
        "103,Alice,Pen,1,30\n",
        "104,Charlie,Notebook,3,50\n",
        "105,Eva,Pen,2,30\n",
        "\"\"\"\n",
        "\n",
        "# Write data to a CSV file\n",
        "with open(\"sales.csv\", \"w\") as f:\n",
        "    f.write(data)\n",
        "df1 = pd.read_csv(\"sales.csv\")"
      ],
      "metadata": {
        "id": "sWmQxQry9w70"
      },
      "execution_count": 9,
      "outputs": []
    },
    {
      "cell_type": "code",
      "source": [
        "data = \"\"\"Name,Math,Science,English\n",
        "Alice,85,78,92\n",
        "Bob,65,70,60\n",
        "Charlie,95,88,90\n",
        "David,40,50,45\n",
        "Eva,76,85,80\n",
        "\"\"\"\n",
        "\n",
        "# Write data to a CSV file\n",
        "with open(\"students.csv\", \"w\") as f:\n",
        "    f.write(data)\n",
        "df2 = pd.read_csv(\"students.csv\")\n"
      ],
      "metadata": {
        "id": "IOrC_tLw7PFD"
      },
      "execution_count": 10,
      "outputs": []
    },
    {
      "cell_type": "code",
      "source": [
        "# Calculate average score per student and assign a \"Result\" (Distinction, Pass, Fail).\n",
        "df2['Average']=df2[['Math','Science','English']].mean(axis=1)\n",
        "print(df2['Average'])\n",
        "avg=df2['Average']\n"
      ],
      "metadata": {
        "colab": {
          "base_uri": "https://localhost:8080/"
        },
        "id": "D4KPbWUP9IB2",
        "outputId": "94371dab-2873-4141-8b43-0f2a245db157"
      },
      "execution_count": 14,
      "outputs": [
        {
          "output_type": "stream",
          "name": "stdout",
          "text": [
            "0    85.000000\n",
            "1    65.000000\n",
            "2    91.000000\n",
            "3    45.000000\n",
            "4    80.333333\n",
            "Name: Average, dtype: float64\n"
          ]
        }
      ]
    },
    {
      "cell_type": "code",
      "source": [
        "def assign(avg):\n",
        "  if avg>90:\n",
        "    return 'Distinction'\n",
        "  if 75<=avg<90:\n",
        "    return 'Pass'\n",
        "  else:\n",
        "    return 'Fail'\n",
        "df2['Result']=df2['Average'].apply(assign)\n",
        "print(df2['Result'])"
      ],
      "metadata": {
        "colab": {
          "base_uri": "https://localhost:8080/"
        },
        "id": "H5keuS4P-1-I",
        "outputId": "f21e8967-2e7a-469c-9169-a74dae215c30"
      },
      "execution_count": 18,
      "outputs": [
        {
          "output_type": "stream",
          "name": "stdout",
          "text": [
            "0           Pass\n",
            "1           Fail\n",
            "2    Distinction\n",
            "3           Fail\n",
            "4           Pass\n",
            "Name: Result, dtype: object\n"
          ]
        }
      ]
    },
    {
      "cell_type": "code",
      "source": [
        "#Calculate total store spending per student (Quantity × Price)\n",
        "df1['Revenue']=df1['Quantity']*df1['Price']\n",
        "print(df1['Revenue'])\n",
        "total_Revenue=df1['Revenue'].sum()"
      ],
      "metadata": {
        "colab": {
          "base_uri": "https://localhost:8080/"
        },
        "id": "eMv6Ie13AKJi",
        "outputId": "4187bca0-a75a-4d35-b809-dd1e6418aa01"
      },
      "execution_count": 21,
      "outputs": [
        {
          "output_type": "stream",
          "name": "stdout",
          "text": [
            "0    100\n",
            "1     50\n",
            "2     30\n",
            "3    150\n",
            "4     60\n",
            "Name: Revenue, dtype: int64\n"
          ]
        }
      ]
    },
    {
      "cell_type": "markdown",
      "source": [
        "#Merge both datasets using the \"Name\"/\"Student\" column to create a unified report."
      ],
      "metadata": {
        "id": "6a_l2s3DCiLq"
      }
    },
    {
      "cell_type": "code",
      "source": [
        "#Since one file uses \"Name\" and the other uses \"Student\", we need to align them:\n",
        "df1.rename(columns={'Student':'Name'},inplace=True)\n"
      ],
      "metadata": {
        "id": "4RIdOdIiB2oq"
      },
      "execution_count": 23,
      "outputs": []
    },
    {
      "cell_type": "code",
      "source": [
        "df_merged= pd.merge(df2,df1, on='Name',how='left')\n",
        "print(df_merged)"
      ],
      "metadata": {
        "colab": {
          "base_uri": "https://localhost:8080/"
        },
        "id": "zAuEhcTfC0na",
        "outputId": "769daa35-f6f1-4a54-f7c6-7f04a7791cd8"
      },
      "execution_count": 30,
      "outputs": [
        {
          "output_type": "stream",
          "name": "stdout",
          "text": [
            "      Name  Math  Science  English    Average       Result  OrderID      Item  \\\n",
            "0    Alice    85       78       92  85.000000         Pass    101.0  Notebook   \n",
            "1    Alice    85       78       92  85.000000         Pass    103.0       Pen   \n",
            "2      Bob    65       70       60  65.000000         Fail    102.0    Pencil   \n",
            "3  Charlie    95       88       90  91.000000  Distinction    104.0  Notebook   \n",
            "4    David    40       50       45  45.000000         Fail      NaN       NaN   \n",
            "5      Eva    76       85       80  80.333333         Pass    105.0       Pen   \n",
            "\n",
            "   Quantity  Price  Total_sales  Revenue  \n",
            "0       2.0   50.0        100.0    100.0  \n",
            "1       1.0   30.0         30.0     30.0  \n",
            "2       5.0   10.0         50.0     50.0  \n",
            "3       3.0   50.0        150.0    150.0  \n",
            "4       NaN    NaN          NaN      NaN  \n",
            "5       2.0   30.0         60.0     60.0  \n"
          ]
        }
      ]
    },
    {
      "cell_type": "code",
      "source": [
        "#Add a column \"High Spender\" if spending > 100.\n",
        "# Safely handle missing values too (in case Total_sales is NaN)\n",
        "\n",
        "df_merged['High Spender'] = df_merged['Total_sales'].apply(\n",
        "    lambda x: 'Yes' if pd.notna(x) and x > 100 else 'No'\n",
        ")\n"
      ],
      "metadata": {
        "id": "L96XRkR8EVth"
      },
      "execution_count": 31,
      "outputs": []
    },
    {
      "cell_type": "markdown",
      "source": [
        ".apply() is used to go row-by-row through the Total_sales column\n",
        "\n",
        "lambda x: is an inline function for each value x\n",
        "\n",
        "pd.notna(x) ensures you're not comparing against a NaN value"
      ],
      "metadata": {
        "id": "wBbn2bBjHCh6"
      }
    },
    {
      "cell_type": "code",
      "source": [
        "#Save the final merged DataFrame to a new file: student_dashboard.csv.\n",
        "df_merged.to_csv('student_dashboard.csv', index=True)\n",
        "df = pd.read_csv('student_dashboard.csv') # read the csv file\n",
        "print(df)"
      ],
      "metadata": {
        "colab": {
          "base_uri": "https://localhost:8080/"
        },
        "id": "UYRtk5aQFEDG",
        "outputId": "4cff5ef2-35dd-4255-fe68-502f6f42f20f"
      },
      "execution_count": 38,
      "outputs": [
        {
          "output_type": "stream",
          "name": "stdout",
          "text": [
            "   Unnamed: 0     Name  Math  Science  English    Average       Result  \\\n",
            "0           0    Alice    85       78       92  85.000000         Pass   \n",
            "1           1    Alice    85       78       92  85.000000         Pass   \n",
            "2           2      Bob    65       70       60  65.000000         Fail   \n",
            "3           3  Charlie    95       88       90  91.000000  Distinction   \n",
            "4           4    David    40       50       45  45.000000         Fail   \n",
            "5           5      Eva    76       85       80  80.333333         Pass   \n",
            "\n",
            "   OrderID      Item  Quantity  Price  Total_sales  Revenue High Spender  \n",
            "0    101.0  Notebook       2.0   50.0        100.0    100.0           No  \n",
            "1    103.0       Pen       1.0   30.0         30.0     30.0           No  \n",
            "2    102.0    Pencil       5.0   10.0         50.0     50.0           No  \n",
            "3    104.0  Notebook       3.0   50.0        150.0    150.0          Yes  \n",
            "4      NaN       NaN       NaN    NaN          NaN      NaN           No  \n",
            "5    105.0       Pen       2.0   30.0         60.0     60.0           No  \n"
          ]
        }
      ]
    },
    {
      "cell_type": "code",
      "source": [
        "\n",
        "import matplotlib.pyplot as plt\n",
        "\n",
        "# Load the final dashboard (or use df_merged directly if it's already in memory)\n",
        "df = pd.read_csv('student_dashboard.csv')\n",
        "\n",
        "# Replace NaNs in spending with 0\n",
        "df['Total_sales'] = df['Total_sales'].fillna(0)\n",
        "\n",
        "# Drop duplicate names (in case of multiple purchases per student)\n",
        "df_unique = df.drop_duplicates(subset='Name', keep='first')\n",
        "\n",
        "# Define colors: red if both Distinction + High Spender, else gray\n",
        "df_unique['Color'] = df_unique.apply(\n",
        "    lambda row: 'teal' if row['Result'] == 'Distinction' and row['High Spender'] == 'Yes' else 'blue',\n",
        "    axis=1\n",
        ")\n",
        "\n",
        "# Plotting\n",
        "plt.figure(figsize=(10,6))\n",
        "plt.bar(df_unique['Name'], df_unique['Average'], color=df_unique['Color'])\n",
        "plt.xlabel('Student')\n",
        "plt.ylabel('Average Score')\n",
        "plt.title('Student Average Scores (Red = Distinction + High Spender)')\n",
        "plt.xticks(rotation=45)\n",
        "plt.grid(axis='y')\n",
        "plt.tight_layout()\n",
        "plt.show()\n",
        "\n",
        "\n"
      ],
      "metadata": {
        "colab": {
          "base_uri": "https://localhost:8080/",
          "height": 714
        },
        "id": "a-j6GF6BIGRp",
        "outputId": "9d3cd3ea-de5c-4078-a0d7-d55606adbb4d"
      },
      "execution_count": 40,
      "outputs": [
        {
          "output_type": "stream",
          "name": "stderr",
          "text": [
            "<ipython-input-40-20202fe325eb>:13: SettingWithCopyWarning: \n",
            "A value is trying to be set on a copy of a slice from a DataFrame.\n",
            "Try using .loc[row_indexer,col_indexer] = value instead\n",
            "\n",
            "See the caveats in the documentation: https://pandas.pydata.org/pandas-docs/stable/user_guide/indexing.html#returning-a-view-versus-a-copy\n",
            "  df_unique['Color'] = df_unique.apply(\n"
          ]
        },
        {
          "output_type": "display_data",
          "data": {
            "text/plain": [
              "<Figure size 1000x600 with 1 Axes>"
            ],
            "image/png": "[encoded data removed]"
          },
          "metadata": {}
        }
      ]
    },
    {
      "cell_type": "code",
      "source": [],
      "metadata": {
        "id": "STGIFgqHRXUs"
      },
      "execution_count": null,
      "outputs": []
    }
  ]
}