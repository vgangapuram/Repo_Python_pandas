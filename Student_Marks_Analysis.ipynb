{
  "nbformat": 4,
  "nbformat_minor": 0,
  "metadata": {
    "colab": {
      "provenance": [],
      "authorship_tag": "ABX9TyPzBBBO3cQcyrp/l2c/lqiW"
    },
    "kernelspec": {
      "name": "python3",
      "display_name": "Python 3"
    },
    "language_info": {
      "name": "python"
    }
  },
  "cells": [
    {
      "cell_type": "markdown",
      "source": [
        "Project: Student Marks Analysis\n",
        "\n"
      ],
      "metadata": {
        "id": "L44qtw_8t7NH"
      }
    },
    {
      "cell_type": "markdown",
      "source": [
        "# convert the below data into data frame.\n",
        "Name, Math, Science, English\n",
        "Alice, 85, 78, 92\n",
        "Bob, 65, 70, 60\n",
        "Charlie, 95, 88, 90\n",
        "David, 40, 50, 45\n",
        "Eva, 76, 85, 80\n"
      ],
      "metadata": {
        "id": "dMC9dMQ5uKGJ"
      }
    },
    {
      "cell_type": "code",
      "source": [
        "# import pandas\n",
        "import pandas as pd"
      ],
      "metadata": {
        "id": "_cXWUB0VwNGA"
      },
      "execution_count": 1,
      "outputs": []
    },
    {
      "cell_type": "code",
      "source": [
        "data={\n",
        "    'Name':['Alice','Bob','Charlie','David','Eva'],\n",
        "    'Math':[85,65,95,40,76],\n",
        "    'Science':[78,70,88,50,85],\n",
        "    'English':[92,60,90,45,85]\n",
        "}\n",
        "df=pd.DataFrame(data)\n",
        "df.to_csv('sales.csv',index=False)\n",
        "\n"
      ],
      "metadata": {
        "id": "a2DeRx6WuLho"
      },
      "execution_count": 2,
      "outputs": []
    },
    {
      "cell_type": "code",
      "source": [
        "print(df)"
      ],
      "metadata": {
        "colab": {
          "base_uri": "https://localhost:8080/"
        },
        "id": "Ag7wzzPxwseN",
        "outputId": "97a2b32b-8966-4f7a-f3fc-7a569973a1f1"
      },
      "execution_count": 3,
      "outputs": [
        {
          "output_type": "stream",
          "name": "stdout",
          "text": [
            "      Name  Math  Science  English\n",
            "0    Alice    85       78       92\n",
            "1      Bob    65       70       60\n",
            "2  Charlie    95       88       90\n",
            "3    David    40       50       45\n",
            "4      Eva    76       85       85\n"
          ]
        }
      ]
    },
    {
      "cell_type": "markdown",
      "source": [
        "#Calculate the average score for each student.\n"
      ],
      "metadata": {
        "id": "S7IAvyJnw2Ol"
      }
    },
    {
      "cell_type": "markdown",
      "source": [
        "axis=1 → row-wise (across columns in the same row)\n",
        "axis=0 → column-wise (down each column)"
      ],
      "metadata": {
        "id": "6yTVFfrax_0-"
      }
    },
    {
      "cell_type": "code",
      "source": [
        "df['Average']= df[['Math','Science','English']].mean(axis=1)\n",
        "print(df['Average'])"
      ],
      "metadata": {
        "colab": {
          "base_uri": "https://localhost:8080/"
        },
        "id": "uaG5_fulwzaW",
        "outputId": "f5c498c9-183b-47cd-a860-0f893e5c93e6"
      },
      "execution_count": 5,
      "outputs": [
        {
          "output_type": "stream",
          "name": "stdout",
          "text": [
            "0    85.0\n",
            "1    65.0\n",
            "2    91.0\n",
            "3    45.0\n",
            "4    82.0\n",
            "Name: Average, dtype: float64\n"
          ]
        }
      ]
    },
    {
      "cell_type": "markdown",
      "source": [
        "Add a new column called \"Result\":\n",
        "If average ≥ 75 → \"Distinction\"\n",
        "If 50 ≤ average < 75 → \"Pass\"\n",
        "Else → \"Fail\""
      ],
      "metadata": {
        "id": "ZpMNx1-YyPlg"
      }
    },
    {
      "cell_type": "code",
      "source": [
        "avg=df['Average']\n",
        "def assign_result(avg):\n",
        "    if avg >= 75:\n",
        "        return \"Distinction\"\n",
        "    elif avg >= 50:\n",
        "        return \"Pass\"\n",
        "    else:\n",
        "        return \"Fail\"\n",
        "\n",
        "df['Result'] = df['Average'].apply(assign_result)\n",
        "\n"
      ],
      "metadata": {
        "id": "VYOTfIrSxuEf"
      },
      "execution_count": 10,
      "outputs": []
    },
    {
      "cell_type": "markdown",
      "source": [
        "Save the final DataFrame to a new file called student_results.csv."
      ],
      "metadata": {
        "id": "FWq_whYn00bQ"
      }
    },
    {
      "cell_type": "code",
      "source": [
        "df.to_csv('students_results.cvs', index=True)\n",
        "print(df)"
      ],
      "metadata": {
        "colab": {
          "base_uri": "https://localhost:8080/"
        },
        "id": "lofqRqIY1XMk",
        "outputId": "a64fd3e4-83e7-4db3-8f14-11be770b2009"
      },
      "execution_count": 11,
      "outputs": [
        {
          "output_type": "stream",
          "name": "stdout",
          "text": [
            "      Name  Math  Science  English  Average       Result\n",
            "0    Alice    85       78       92     85.0  Distinction\n",
            "1      Bob    65       70       60     65.0         Pass\n",
            "2  Charlie    95       88       90     91.0  Distinction\n",
            "3    David    40       50       45     45.0         Fail\n",
            "4      Eva    76       85       85     82.0  Distinction\n"
          ]
        }
      ]
    },
    {
      "cell_type": "code",
      "source": [],
      "metadata": {
        "id": "8L4xbNcU1hZY"
      },
      "execution_count": null,
      "outputs": []
    }
  ]
}