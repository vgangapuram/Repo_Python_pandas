{
  "nbformat": 4,
  "nbformat_minor": 0,
  "metadata": {
    "colab": {
      "provenance": [],
      "authorship_tag": "ABX9TyOM8JcK/pB/QEQdSeQ51EeV"
    },
    "kernelspec": {
      "name": "python3",
      "display_name": "Python 3"
    },
    "language_info": {
      "name": "python"
    }
  },
  "cells": [
    {
      "cell_type": "markdown",
      "source": [
        "Project E-commerce Customer Behavior\n",
        "Dataset: customers.csv and orders.csv\n",
        " Goal: Explore customer spending patterns.\n",
        "Tasks:\n",
        "\t•\tMerge both files on customer_id.\n",
        "\t•\tCalculate total spent per customer.\n",
        "\t•\tAdd “High Spender” column (if spent > 100).\n",
        "\t•\t📊 Scatter plot: Age vs. Spending.\n",
        "\t•\t📊 Bar chart: High spenders per location.\n"
      ],
      "metadata": {
        "id": "jzIZGEssl4eT"
      }
    },
    {
      "cell_type": "code",
      "execution_count": 5,
      "metadata": {
        "colab": {
          "base_uri": "https://localhost:8080/",
          "height": 74
        },
        "id": "UguAV6aXW8Ci",
        "outputId": "eba7958e-f40c-4337-f7d8-3ca3156229b9"
      },
      "outputs": [
        {
          "output_type": "display_data",
          "data": {
            "text/plain": [
              "<IPython.core.display.HTML object>"
            ],
            "text/html": [
              "\n",
              "     <input type=\"file\" id=\"files-904a10a3-4c48-4940-a17c-bcd7a2dacc3f\" name=\"files[]\" multiple disabled\n",
              "        style=\"border:none\" />\n",
              "     <output id=\"result-904a10a3-4c48-4940-a17c-bcd7a2dacc3f\">\n",
              "      Upload widget is only available when the cell has been executed in the\n",
              "      current browser session. Please rerun this cell to enable.\n",
              "      </output>\n",
              "      <script>// Copyright 2017 Google LLC\n",
              "//\n",
              "// Licensed under the Apache License, Version 2.0 (the \"License\");\n",
              "// you may not use this file except in compliance with the License.\n",
              "// You may obtain a copy of the License at\n",
              "//\n",
              "//      http://www.apache.org/licenses/LICENSE-2.0\n",
              "//\n",
              "// Unless required by applicable law or agreed to in writing, software\n",
              "// distributed under the License is distributed on an \"AS IS\" BASIS,\n",
              "// WITHOUT WARRANTIES OR CONDITIONS OF ANY KIND, either express or implied.\n",
              "// See the License for the specific language governing permissions and\n",
              "// limitations under the License.\n",
              "\n",
              "/**\n",
              " * @fileoverview Helpers for google.colab Python module.\n",
              " */\n",
              "(function(scope) {\n",
              "function span(text, styleAttributes = {}) {\n",
              "  const element = document.createElement('span');\n",
              "  element.textContent = text;\n",
              "  for (const key of Object.keys(styleAttributes)) {\n",
              "    element.style[key] = styleAttributes[key];\n",
              "  }\n",
              "  return element;\n",
              "}\n",
              "\n",
              "// Max number of bytes which will be uploaded at a time.\n",
              "const MAX_PAYLOAD_SIZE = 100 * 1024;\n",
              "\n",
              "function _uploadFiles(inputId, outputId) {\n",
              "  const steps = uploadFilesStep(inputId, outputId);\n",
              "  const outputElement = document.getElementById(outputId);\n",
              "  // Cache steps on the outputElement to make it available for the next call\n",
              "  // to uploadFilesContinue from Python.\n",
              "  outputElement.steps = steps;\n",
              "\n",
              "  return _uploadFilesContinue(outputId);\n",
              "}\n",
              "\n",
              "// This is roughly an async generator (not supported in the browser yet),\n",
              "// where there are multiple asynchronous steps and the Python side is going\n",
              "// to poll for completion of each step.\n",
              "// This uses a Promise to block the python side on completion of each step,\n",
              "// then passes the result of the previous step as the input to the next step.\n",
              "function _uploadFilesContinue(outputId) {\n",
              "  const outputElement = document.getElementById(outputId);\n",
              "  const steps = outputElement.steps;\n",
              "\n",
              "  const next = steps.next(outputElement.lastPromiseValue);\n",
              "  return Promise.resolve(next.value.promise).then((value) => {\n",
              "    // Cache the last promise value to make it available to the next\n",
              "    // step of the generator.\n",
              "    outputElement.lastPromiseValue = value;\n",
              "    return next.value.response;\n",
              "  });\n",
              "}\n",
              "\n",
              "/**\n",
              " * Generator function which is called between each async step of the upload\n",
              " * process.\n",
              " * @param {string} inputId Element ID of the input file picker element.\n",
              " * @param {string} outputId Element ID of the output display.\n",
              " * @return {!Iterable<!Object>} Iterable of next steps.\n",
              " */\n",
              "function* uploadFilesStep(inputId, outputId) {\n",
              "  const inputElement = document.getElementById(inputId);\n",
              "  inputElement.disabled = false;\n",
              "\n",
              "  const outputElement = document.getElementById(outputId);\n",
              "  outputElement.innerHTML = '';\n",
              "\n",
              "  const pickedPromise = new Promise((resolve) => {\n",
              "    inputElement.addEventListener('change', (e) => {\n",
              "      resolve(e.target.files);\n",
              "    });\n",
              "  });\n",
              "\n",
              "  const cancel = document.createElement('button');\n",
              "  inputElement.parentElement.appendChild(cancel);\n",
              "  cancel.textContent = 'Cancel upload';\n",
              "  const cancelPromise = new Promise((resolve) => {\n",
              "    cancel.onclick = () => {\n",
              "      resolve(null);\n",
              "    };\n",
              "  });\n",
              "\n",
              "  // Wait for the user to pick the files.\n",
              "  const files = yield {\n",
              "    promise: Promise.race([pickedPromise, cancelPromise]),\n",
              "    response: {\n",
              "      action: 'starting',\n",
              "    }\n",
              "  };\n",
              "\n",
              "  cancel.remove();\n",
              "\n",
              "  // Disable the input element since further picks are not allowed.\n",
              "  inputElement.disabled = true;\n",
              "\n",
              "  if (!files) {\n",
              "    return {\n",
              "      response: {\n",
              "        action: 'complete',\n",
              "      }\n",
              "    };\n",
              "  }\n",
              "\n",
              "  for (const file of files) {\n",
              "    const li = document.createElement('li');\n",
              "    li.append(span(file.name, {fontWeight: 'bold'}));\n",
              "    li.append(span(\n",
              "        `(${file.type || 'n/a'}) - ${file.size} bytes, ` +\n",
              "        `last modified: ${\n",
              "            file.lastModifiedDate ? file.lastModifiedDate.toLocaleDateString() :\n",
              "                                    'n/a'} - `));\n",
              "    const percent = span('0% done');\n",
              "    li.appendChild(percent);\n",
              "\n",
              "    outputElement.appendChild(li);\n",
              "\n",
              "    const fileDataPromise = new Promise((resolve) => {\n",
              "      const reader = new FileReader();\n",
              "      reader.onload = (e) => {\n",
              "        resolve(e.target.result);\n",
              "      };\n",
              "      reader.readAsArrayBuffer(file);\n",
              "    });\n",
              "    // Wait for the data to be ready.\n",
              "    let fileData = yield {\n",
              "      promise: fileDataPromise,\n",
              "      response: {\n",
              "        action: 'continue',\n",
              "      }\n",
              "    };\n",
              "\n",
              "    // Use a chunked sending to avoid message size limits. See b/62115660.\n",
              "    let position = 0;\n",
              "    do {\n",
              "      const length = Math.min(fileData.byteLength - position, MAX_PAYLOAD_SIZE);\n",
              "      const chunk = new Uint8Array(fileData, position, length);\n",
              "      position += length;\n",
              "\n",
              "      const base64 = btoa(String.fromCharCode.apply(null, chunk));\n",
              "      yield {\n",
              "        response: {\n",
              "          action: 'append',\n",
              "          file: file.name,\n",
              "          data: base64,\n",
              "        },\n",
              "      };\n",
              "\n",
              "      let percentDone = fileData.byteLength === 0 ?\n",
              "          100 :\n",
              "          Math.round((position / fileData.byteLength) * 100);\n",
              "      percent.textContent = `${percentDone}% done`;\n",
              "\n",
              "    } while (position < fileData.byteLength);\n",
              "  }\n",
              "\n",
              "  // All done.\n",
              "  yield {\n",
              "    response: {\n",
              "      action: 'complete',\n",
              "    }\n",
              "  };\n",
              "}\n",
              "\n",
              "scope.google = scope.google || {};\n",
              "scope.google.colab = scope.google.colab || {};\n",
              "scope.google.colab._files = {\n",
              "  _uploadFiles,\n",
              "  _uploadFilesContinue,\n",
              "};\n",
              "})(self);\n",
              "</script> "
            ]
          },
          "metadata": {}
        },
        {
          "output_type": "stream",
          "name": "stdout",
          "text": [
            "Saving Customers_Data.csv to Customers_Data.csv\n"
          ]
        }
      ],
      "source": [
        "from google.colab import files\n",
        "uploaded=files.upload()"
      ]
    },
    {
      "cell_type": "code",
      "source": [
        "from google.colab import files\n",
        "uploaded=files.upload()"
      ],
      "metadata": {
        "colab": {
          "base_uri": "https://localhost:8080/",
          "height": 74
        },
        "id": "sNjbO_i9azKN",
        "outputId": "a564d2f4-72b6-463c-b4cf-345bd7846254"
      },
      "execution_count": 6,
      "outputs": [
        {
          "output_type": "display_data",
          "data": {
            "text/plain": [
              "<IPython.core.display.HTML object>"
            ],
            "text/html": [
              "\n",
              "     <input type=\"file\" id=\"files-759737f7-18fe-47b5-a9c6-97be7e11f220\" name=\"files[]\" multiple disabled\n",
              "        style=\"border:none\" />\n",
              "     <output id=\"result-759737f7-18fe-47b5-a9c6-97be7e11f220\">\n",
              "      Upload widget is only available when the cell has been executed in the\n",
              "      current browser session. Please rerun this cell to enable.\n",
              "      </output>\n",
              "      <script>// Copyright 2017 Google LLC\n",
              "//\n",
              "// Licensed under the Apache License, Version 2.0 (the \"License\");\n",
              "// you may not use this file except in compliance with the License.\n",
              "// You may obtain a copy of the License at\n",
              "//\n",
              "//      http://www.apache.org/licenses/LICENSE-2.0\n",
              "//\n",
              "// Unless required by applicable law or agreed to in writing, software\n",
              "// distributed under the License is distributed on an \"AS IS\" BASIS,\n",
              "// WITHOUT WARRANTIES OR CONDITIONS OF ANY KIND, either express or implied.\n",
              "// See the License for the specific language governing permissions and\n",
              "// limitations under the License.\n",
              "\n",
              "/**\n",
              " * @fileoverview Helpers for google.colab Python module.\n",
              " */\n",
              "(function(scope) {\n",
              "function span(text, styleAttributes = {}) {\n",
              "  const element = document.createElement('span');\n",
              "  element.textContent = text;\n",
              "  for (const key of Object.keys(styleAttributes)) {\n",
              "    element.style[key] = styleAttributes[key];\n",
              "  }\n",
              "  return element;\n",
              "}\n",
              "\n",
              "// Max number of bytes which will be uploaded at a time.\n",
              "const MAX_PAYLOAD_SIZE = 100 * 1024;\n",
              "\n",
              "function _uploadFiles(inputId, outputId) {\n",
              "  const steps = uploadFilesStep(inputId, outputId);\n",
              "  const outputElement = document.getElementById(outputId);\n",
              "  // Cache steps on the outputElement to make it available for the next call\n",
              "  // to uploadFilesContinue from Python.\n",
              "  outputElement.steps = steps;\n",
              "\n",
              "  return _uploadFilesContinue(outputId);\n",
              "}\n",
              "\n",
              "// This is roughly an async generator (not supported in the browser yet),\n",
              "// where there are multiple asynchronous steps and the Python side is going\n",
              "// to poll for completion of each step.\n",
              "// This uses a Promise to block the python side on completion of each step,\n",
              "// then passes the result of the previous step as the input to the next step.\n",
              "function _uploadFilesContinue(outputId) {\n",
              "  const outputElement = document.getElementById(outputId);\n",
              "  const steps = outputElement.steps;\n",
              "\n",
              "  const next = steps.next(outputElement.lastPromiseValue);\n",
              "  return Promise.resolve(next.value.promise).then((value) => {\n",
              "    // Cache the last promise value to make it available to the next\n",
              "    // step of the generator.\n",
              "    outputElement.lastPromiseValue = value;\n",
              "    return next.value.response;\n",
              "  });\n",
              "}\n",
              "\n",
              "/**\n",
              " * Generator function which is called between each async step of the upload\n",
              " * process.\n",
              " * @param {string} inputId Element ID of the input file picker element.\n",
              " * @param {string} outputId Element ID of the output display.\n",
              " * @return {!Iterable<!Object>} Iterable of next steps.\n",
              " */\n",
              "function* uploadFilesStep(inputId, outputId) {\n",
              "  const inputElement = document.getElementById(inputId);\n",
              "  inputElement.disabled = false;\n",
              "\n",
              "  const outputElement = document.getElementById(outputId);\n",
              "  outputElement.innerHTML = '';\n",
              "\n",
              "  const pickedPromise = new Promise((resolve) => {\n",
              "    inputElement.addEventListener('change', (e) => {\n",
              "      resolve(e.target.files);\n",
              "    });\n",
              "  });\n",
              "\n",
              "  const cancel = document.createElement('button');\n",
              "  inputElement.parentElement.appendChild(cancel);\n",
              "  cancel.textContent = 'Cancel upload';\n",
              "  const cancelPromise = new Promise((resolve) => {\n",
              "    cancel.onclick = () => {\n",
              "      resolve(null);\n",
              "    };\n",
              "  });\n",
              "\n",
              "  // Wait for the user to pick the files.\n",
              "  const files = yield {\n",
              "    promise: Promise.race([pickedPromise, cancelPromise]),\n",
              "    response: {\n",
              "      action: 'starting',\n",
              "    }\n",
              "  };\n",
              "\n",
              "  cancel.remove();\n",
              "\n",
              "  // Disable the input element since further picks are not allowed.\n",
              "  inputElement.disabled = true;\n",
              "\n",
              "  if (!files) {\n",
              "    return {\n",
              "      response: {\n",
              "        action: 'complete',\n",
              "      }\n",
              "    };\n",
              "  }\n",
              "\n",
              "  for (const file of files) {\n",
              "    const li = document.createElement('li');\n",
              "    li.append(span(file.name, {fontWeight: 'bold'}));\n",
              "    li.append(span(\n",
              "        `(${file.type || 'n/a'}) - ${file.size} bytes, ` +\n",
              "        `last modified: ${\n",
              "            file.lastModifiedDate ? file.lastModifiedDate.toLocaleDateString() :\n",
              "                                    'n/a'} - `));\n",
              "    const percent = span('0% done');\n",
              "    li.appendChild(percent);\n",
              "\n",
              "    outputElement.appendChild(li);\n",
              "\n",
              "    const fileDataPromise = new Promise((resolve) => {\n",
              "      const reader = new FileReader();\n",
              "      reader.onload = (e) => {\n",
              "        resolve(e.target.result);\n",
              "      };\n",
              "      reader.readAsArrayBuffer(file);\n",
              "    });\n",
              "    // Wait for the data to be ready.\n",
              "    let fileData = yield {\n",
              "      promise: fileDataPromise,\n",
              "      response: {\n",
              "        action: 'continue',\n",
              "      }\n",
              "    };\n",
              "\n",
              "    // Use a chunked sending to avoid message size limits. See b/62115660.\n",
              "    let position = 0;\n",
              "    do {\n",
              "      const length = Math.min(fileData.byteLength - position, MAX_PAYLOAD_SIZE);\n",
              "      const chunk = new Uint8Array(fileData, position, length);\n",
              "      position += length;\n",
              "\n",
              "      const base64 = btoa(String.fromCharCode.apply(null, chunk));\n",
              "      yield {\n",
              "        response: {\n",
              "          action: 'append',\n",
              "          file: file.name,\n",
              "          data: base64,\n",
              "        },\n",
              "      };\n",
              "\n",
              "      let percentDone = fileData.byteLength === 0 ?\n",
              "          100 :\n",
              "          Math.round((position / fileData.byteLength) * 100);\n",
              "      percent.textContent = `${percentDone}% done`;\n",
              "\n",
              "    } while (position < fileData.byteLength);\n",
              "  }\n",
              "\n",
              "  // All done.\n",
              "  yield {\n",
              "    response: {\n",
              "      action: 'complete',\n",
              "    }\n",
              "  };\n",
              "}\n",
              "\n",
              "scope.google = scope.google || {};\n",
              "scope.google.colab = scope.google.colab || {};\n",
              "scope.google.colab._files = {\n",
              "  _uploadFiles,\n",
              "  _uploadFilesContinue,\n",
              "};\n",
              "})(self);\n",
              "</script> "
            ]
          },
          "metadata": {}
        },
        {
          "output_type": "stream",
          "name": "stdout",
          "text": [
            "Saving Orders_Data.csv to Orders_Data.csv\n"
          ]
        }
      ]
    },
    {
      "cell_type": "code",
      "source": [
        "import pandas as pd\n",
        "df1=pd.read_csv('Customers_Data.csv')\n",
        "print(df1)"
      ],
      "metadata": {
        "colab": {
          "base_uri": "https://localhost:8080/"
        },
        "id": "an9qOqRha61D",
        "outputId": "22cb7fe2-b923-44e0-e88d-809696cebefe"
      },
      "execution_count": 9,
      "outputs": [
        {
          "output_type": "stream",
          "name": "stdout",
          "text": [
            "   customer_id     name  age    location\n",
            "0            1    Alice   25    New York\n",
            "1            2      Bob   30  California\n",
            "2            3  Charlie   22       Texas\n",
            "3            4    David   35     Florida\n",
            "4            5      Eva   28      Nevada\n",
            "5            6    Frank   40        Ohio\n",
            "6            7    Grace   31       Texas\n",
            "7            8   Hannah   27  California\n",
            "8            9      Ian   24     Florida\n",
            "9           10     Jane   29    New York\n"
          ]
        }
      ]
    },
    {
      "cell_type": "code",
      "source": [
        "df2=pd.read_csv('Orders_Data.csv')\n",
        "print(df2)"
      ],
      "metadata": {
        "colab": {
          "base_uri": "https://localhost:8080/"
        },
        "id": "XJvrqfhEcjyn",
        "outputId": "62a93eb7-af3f-4a5e-b969-dc887d505cc5"
      },
      "execution_count": 12,
      "outputs": [
        {
          "output_type": "stream",
          "name": "stdout",
          "text": [
            "    order_id  customer_id  order_date  order_amount\n",
            "0        101            7  2024-01-01            30\n",
            "1        102            4  2024-01-16            67\n",
            "2        103            8  2024-01-31            31\n",
            "3        104            5  2024-02-15            98\n",
            "4        105            7  2024-03-01            58\n",
            "5        106           10  2024-03-16            68\n",
            "6        107            3  2024-03-31            24\n",
            "7        108            7  2024-04-15            60\n",
            "8        109            8  2024-04-30           117\n",
            "9        110            5  2024-05-15            64\n",
            "10       111            4  2024-05-30            73\n",
            "11       112            8  2024-06-14           140\n",
            "12       113            8  2024-06-29            60\n",
            "13       114            3  2024-07-14           144\n",
            "14       115            6  2024-07-29            30\n",
            "15       116            5  2024-08-13            82\n",
            "16       117            2  2024-08-28            27\n",
            "17       118            8  2024-09-12           141\n",
            "18       119            6  2024-09-27            98\n",
            "19       120            2  2024-10-12            69\n"
          ]
        }
      ]
    },
    {
      "cell_type": "code",
      "source": [
        "df_merge=pd.merge(df1,df2,on='customer_id',how='left')\n",
        "print(df_merge)"
      ],
      "metadata": {
        "colab": {
          "base_uri": "https://localhost:8080/"
        },
        "id": "5g01FYjAcx8n",
        "outputId": "67ff755f-348a-4682-d0e8-50b42a9cccd6"
      },
      "execution_count": 14,
      "outputs": [
        {
          "output_type": "stream",
          "name": "stdout",
          "text": [
            "    customer_id     name  age    location  order_id  order_date  order_amount\n",
            "0             1    Alice   25    New York       NaN         NaN           NaN\n",
            "1             2      Bob   30  California     117.0  2024-08-28          27.0\n",
            "2             2      Bob   30  California     120.0  2024-10-12          69.0\n",
            "3             3  Charlie   22       Texas     107.0  2024-03-31          24.0\n",
            "4             3  Charlie   22       Texas     114.0  2024-07-14         144.0\n",
            "5             4    David   35     Florida     102.0  2024-01-16          67.0\n",
            "6             4    David   35     Florida     111.0  2024-05-30          73.0\n",
            "7             5      Eva   28      Nevada     104.0  2024-02-15          98.0\n",
            "8             5      Eva   28      Nevada     110.0  2024-05-15          64.0\n",
            "9             5      Eva   28      Nevada     116.0  2024-08-13          82.0\n",
            "10            6    Frank   40        Ohio     115.0  2024-07-29          30.0\n",
            "11            6    Frank   40        Ohio     119.0  2024-09-27          98.0\n",
            "12            7    Grace   31       Texas     101.0  2024-01-01          30.0\n",
            "13            7    Grace   31       Texas     105.0  2024-03-01          58.0\n",
            "14            7    Grace   31       Texas     108.0  2024-04-15          60.0\n",
            "15            8   Hannah   27  California     103.0  2024-01-31          31.0\n",
            "16            8   Hannah   27  California     109.0  2024-04-30         117.0\n",
            "17            8   Hannah   27  California     112.0  2024-06-14         140.0\n",
            "18            8   Hannah   27  California     113.0  2024-06-29          60.0\n",
            "19            8   Hannah   27  California     118.0  2024-09-12         141.0\n",
            "20            9      Ian   24     Florida       NaN         NaN           NaN\n",
            "21           10     Jane   29    New York     106.0  2024-03-16          68.0\n"
          ]
        }
      ]
    },
    {
      "cell_type": "code",
      "source": [
        "df_merge['Total_spent'] = df_merge['customer_id'].map(\n",
        "    df_merge.groupby('customer_id')['order_amount'].sum())\n",
        "print(df_merge)"
      ],
      "metadata": {
        "colab": {
          "base_uri": "https://localhost:8080/"
        },
        "id": "hr6k-_pQeZPM",
        "outputId": "0b86b882-c2e3-4e7f-9d96-8a9780329d91"
      },
      "execution_count": 19,
      "outputs": [
        {
          "output_type": "stream",
          "name": "stdout",
          "text": [
            "    customer_id     name  age    location  order_id  order_date  order_amount  \\\n",
            "0             1    Alice   25    New York       NaN         NaN           NaN   \n",
            "1             2      Bob   30  California     117.0  2024-08-28          27.0   \n",
            "2             2      Bob   30  California     120.0  2024-10-12          69.0   \n",
            "3             3  Charlie   22       Texas     107.0  2024-03-31          24.0   \n",
            "4             3  Charlie   22       Texas     114.0  2024-07-14         144.0   \n",
            "5             4    David   35     Florida     102.0  2024-01-16          67.0   \n",
            "6             4    David   35     Florida     111.0  2024-05-30          73.0   \n",
            "7             5      Eva   28      Nevada     104.0  2024-02-15          98.0   \n",
            "8             5      Eva   28      Nevada     110.0  2024-05-15          64.0   \n",
            "9             5      Eva   28      Nevada     116.0  2024-08-13          82.0   \n",
            "10            6    Frank   40        Ohio     115.0  2024-07-29          30.0   \n",
            "11            6    Frank   40        Ohio     119.0  2024-09-27          98.0   \n",
            "12            7    Grace   31       Texas     101.0  2024-01-01          30.0   \n",
            "13            7    Grace   31       Texas     105.0  2024-03-01          58.0   \n",
            "14            7    Grace   31       Texas     108.0  2024-04-15          60.0   \n",
            "15            8   Hannah   27  California     103.0  2024-01-31          31.0   \n",
            "16            8   Hannah   27  California     109.0  2024-04-30         117.0   \n",
            "17            8   Hannah   27  California     112.0  2024-06-14         140.0   \n",
            "18            8   Hannah   27  California     113.0  2024-06-29          60.0   \n",
            "19            8   Hannah   27  California     118.0  2024-09-12         141.0   \n",
            "20            9      Ian   24     Florida       NaN         NaN           NaN   \n",
            "21           10     Jane   29    New York     106.0  2024-03-16          68.0   \n",
            "\n",
            "    Total_spent  \n",
            "0           0.0  \n",
            "1          96.0  \n",
            "2          96.0  \n",
            "3         168.0  \n",
            "4         168.0  \n",
            "5         140.0  \n",
            "6         140.0  \n",
            "7         244.0  \n",
            "8         244.0  \n",
            "9         244.0  \n",
            "10        128.0  \n",
            "11        128.0  \n",
            "12        148.0  \n",
            "13        148.0  \n",
            "14        148.0  \n",
            "15        489.0  \n",
            "16        489.0  \n",
            "17        489.0  \n",
            "18        489.0  \n",
            "19        489.0  \n",
            "20          0.0  \n",
            "21         68.0  \n"
          ]
        }
      ]
    },
    {
      "cell_type": "code",
      "source": [
        "import numpy as np\n",
        "df_merge['High Spender']=np.where(df_merge['Total_spent']>100,'Yes','No')\n",
        "print(df_merge)"
      ],
      "metadata": {
        "colab": {
          "base_uri": "https://localhost:8080/"
        },
        "id": "4NF06jWokYlk",
        "outputId": "b03ea35d-0f22-427c-c1e1-37d670a4291a"
      },
      "execution_count": 27,
      "outputs": [
        {
          "output_type": "stream",
          "name": "stdout",
          "text": [
            "    customer_id     name  age    location  order_id  order_date  order_amount  \\\n",
            "0             1    Alice   25    New York       NaN         NaN           NaN   \n",
            "1             2      Bob   30  California     117.0  2024-08-28          27.0   \n",
            "2             2      Bob   30  California     120.0  2024-10-12          69.0   \n",
            "3             3  Charlie   22       Texas     107.0  2024-03-31          24.0   \n",
            "4             3  Charlie   22       Texas     114.0  2024-07-14         144.0   \n",
            "5             4    David   35     Florida     102.0  2024-01-16          67.0   \n",
            "6             4    David   35     Florida     111.0  2024-05-30          73.0   \n",
            "7             5      Eva   28      Nevada     104.0  2024-02-15          98.0   \n",
            "8             5      Eva   28      Nevada     110.0  2024-05-15          64.0   \n",
            "9             5      Eva   28      Nevada     116.0  2024-08-13          82.0   \n",
            "10            6    Frank   40        Ohio     115.0  2024-07-29          30.0   \n",
            "11            6    Frank   40        Ohio     119.0  2024-09-27          98.0   \n",
            "12            7    Grace   31       Texas     101.0  2024-01-01          30.0   \n",
            "13            7    Grace   31       Texas     105.0  2024-03-01          58.0   \n",
            "14            7    Grace   31       Texas     108.0  2024-04-15          60.0   \n",
            "15            8   Hannah   27  California     103.0  2024-01-31          31.0   \n",
            "16            8   Hannah   27  California     109.0  2024-04-30         117.0   \n",
            "17            8   Hannah   27  California     112.0  2024-06-14         140.0   \n",
            "18            8   Hannah   27  California     113.0  2024-06-29          60.0   \n",
            "19            8   Hannah   27  California     118.0  2024-09-12         141.0   \n",
            "20            9      Ian   24     Florida       NaN         NaN           NaN   \n",
            "21           10     Jane   29    New York     106.0  2024-03-16          68.0   \n",
            "\n",
            "    Total_spent High Spender High_Spender  \n",
            "0           0.0           No           No  \n",
            "1          96.0           No           No  \n",
            "2          96.0           No           No  \n",
            "3         168.0          Yes          Yes  \n",
            "4         168.0          Yes          Yes  \n",
            "5         140.0          Yes          Yes  \n",
            "6         140.0          Yes          Yes  \n",
            "7         244.0          Yes          Yes  \n",
            "8         244.0          Yes          Yes  \n",
            "9         244.0          Yes          Yes  \n",
            "10        128.0          Yes          Yes  \n",
            "11        128.0          Yes          Yes  \n",
            "12        148.0          Yes          Yes  \n",
            "13        148.0          Yes          Yes  \n",
            "14        148.0          Yes          Yes  \n",
            "15        489.0          Yes          Yes  \n",
            "16        489.0          Yes          Yes  \n",
            "17        489.0          Yes          Yes  \n",
            "18        489.0          Yes          Yes  \n",
            "19        489.0          Yes          Yes  \n",
            "20          0.0           No           No  \n",
            "21         68.0           No           No  \n"
          ]
        }
      ]
    },
    {
      "cell_type": "code",
      "source": [
        "import matplotlib.pyplot as plt\n",
        "Age=df_merge['age']\n",
        "Spending=df_merge['Total_spent']\n",
        "plt.scatter()"
      ],
      "metadata": {
        "colab": {
          "base_uri": "https://localhost:8080/",
          "height": 448
        },
        "id": "Devcl4SKidHZ",
        "outputId": "e0094b31-9ac2-4427-e872-104e1c2e243a"
      },
      "execution_count": 21,
      "outputs": [
        {
          "output_type": "execute_result",
          "data": {
            "text/plain": [
              "<matplotlib.collections.PathCollection at 0x7cdd4eb0c450>"
            ]
          },
          "metadata": {},
          "execution_count": 21
        },
        {
          "output_type": "display_data",
          "data": {
            "text/plain": [
              "<Figure size 640x480 with 1 Axes>"
            ],
            "image/png": "[encoded data removed]"
          },
          "metadata": {}
        }
      ]
    },
    {
      "cell_type": "code",
      "source": [
        "high_spenders = df_merge[df_merge['High Spender'] == 'Yes']\n",
        "\n",
        "# Optional: remove duplicate customer IDs if multiple orders\n",
        "high_spenders_unique = high_spenders.drop_duplicates('customer_id')\n",
        "\n",
        "# Count high spenders per location\n",
        "location_counts = high_spenders_unique['location'].value_counts()\n",
        "\n",
        "# Plot bar chart\n",
        "plt.bar(location_counts.index, location_counts.values, color='teal')"
      ],
      "metadata": {
        "colab": {
          "base_uri": "https://localhost:8080/",
          "height": 448
        },
        "id": "uRO34t10lkpI",
        "outputId": "738b7ca3-1e5a-401e-a627-9528f652e2a2"
      },
      "execution_count": 34,
      "outputs": [
        {
          "output_type": "execute_result",
          "data": {
            "text/plain": [
              "<BarContainer object of 5 artists>"
            ]
          },
          "metadata": {},
          "execution_count": 34
        },
        {
          "output_type": "display_data",
          "data": {
            "text/plain": [
              "<Figure size 640x480 with 1 Axes>"
            ],
            "image/png": "[encoded data removed]"
          },
          "metadata": {}
        }
      ]
    },
    {
      "cell_type": "markdown",
      "source": [],
      "metadata": {
        "id": "ub0NKftRjl16"
      }
    }
  ]
}