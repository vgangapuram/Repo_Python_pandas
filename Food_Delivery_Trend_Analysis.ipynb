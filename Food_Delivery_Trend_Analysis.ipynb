{
  "nbformat": 4,
  "nbformat_minor": 0,
  "metadata": {
    "colab": {
      "provenance": [],
      "authorship_tag": "ABX9TyPbEWzYeX4C1q3HVoTa9PIL"
    },
    "kernelspec": {
      "name": "python3",
      "display_name": "Python 3"
    },
    "language_info": {
      "name": "python"
    }
  },
  "cells": [
    {
      "cell_type": "markdown",
      "source": [
        "Project: Food Delivery Trend Analysis\n",
        "Dataset: orders.csv\n",
        "Goal: Understand order behavior and delivery time.\n",
        "\n",
        "Tasks:\n",
        "Load data: order_id, customer_id, delivery_time, rating, food_category.\n",
        "\n",
        "Calculate average delivery time by category.\n",
        "\n",
        "Identify most ordered food category.\n",
        "\n",
        "📊 Histogram: Delivery time distribution.\n",
        "\n",
        "📊 Pie chart: Rating distribution (1–5 stars)."
      ],
      "metadata": {
        "id": "VRXi8uyvwnmY"
      }
    },
    {
      "cell_type": "code",
      "execution_count": 1,
      "metadata": {
        "colab": {
          "base_uri": "https://localhost:8080/",
          "height": 74
        },
        "id": "0zKu_TcRwlOq",
        "outputId": "e8aeb60e-3667-42f6-9361-13bee3637692"
      },
      "outputs": [
        {
          "output_type": "display_data",
          "data": {
            "text/plain": [
              "<IPython.core.display.HTML object>"
            ],
            "text/html": [
              "\n",
              "     <input type=\"file\" id=\"files-c0f5d84c-331b-4992-aac0-1324836e22dd\" name=\"files[]\" multiple disabled\n",
              "        style=\"border:none\" />\n",
              "     <output id=\"result-c0f5d84c-331b-4992-aac0-1324836e22dd\">\n",
              "      Upload widget is only available when the cell has been executed in the\n",
              "      current browser session. Please rerun this cell to enable.\n",
              "      </output>\n",
              "      <script>// Copyright 2017 Google LLC\n",
              "//\n",
              "// Licensed under the Apache License, Version 2.0 (the \"License\");\n",
              "// you may not use this file except in compliance with the License.\n",
              "// You may obtain a copy of the License at\n",
              "//\n",
              "//      http://www.apache.org/licenses/LICENSE-2.0\n",
              "//\n",
              "// Unless required by applicable law or agreed to in writing, software\n",
              "// distributed under the License is distributed on an \"AS IS\" BASIS,\n",
              "// WITHOUT WARRANTIES OR CONDITIONS OF ANY KIND, either express or implied.\n",
              "// See the License for the specific language governing permissions and\n",
              "// limitations under the License.\n",
              "\n",
              "/**\n",
              " * @fileoverview Helpers for google.colab Python module.\n",
              " */\n",
              "(function(scope) {\n",
              "function span(text, styleAttributes = {}) {\n",
              "  const element = document.createElement('span');\n",
              "  element.textContent = text;\n",
              "  for (const key of Object.keys(styleAttributes)) {\n",
              "    element.style[key] = styleAttributes[key];\n",
              "  }\n",
              "  return element;\n",
              "}\n",
              "\n",
              "// Max number of bytes which will be uploaded at a time.\n",
              "const MAX_PAYLOAD_SIZE = 100 * 1024;\n",
              "\n",
              "function _uploadFiles(inputId, outputId) {\n",
              "  const steps = uploadFilesStep(inputId, outputId);\n",
              "  const outputElement = document.getElementById(outputId);\n",
              "  // Cache steps on the outputElement to make it available for the next call\n",
              "  // to uploadFilesContinue from Python.\n",
              "  outputElement.steps = steps;\n",
              "\n",
              "  return _uploadFilesContinue(outputId);\n",
              "}\n",
              "\n",
              "// This is roughly an async generator (not supported in the browser yet),\n",
              "// where there are multiple asynchronous steps and the Python side is going\n",
              "// to poll for completion of each step.\n",
              "// This uses a Promise to block the python side on completion of each step,\n",
              "// then passes the result of the previous step as the input to the next step.\n",
              "function _uploadFilesContinue(outputId) {\n",
              "  const outputElement = document.getElementById(outputId);\n",
              "  const steps = outputElement.steps;\n",
              "\n",
              "  const next = steps.next(outputElement.lastPromiseValue);\n",
              "  return Promise.resolve(next.value.promise).then((value) => {\n",
              "    // Cache the last promise value to make it available to the next\n",
              "    // step of the generator.\n",
              "    outputElement.lastPromiseValue = value;\n",
              "    return next.value.response;\n",
              "  });\n",
              "}\n",
              "\n",
              "/**\n",
              " * Generator function which is called between each async step of the upload\n",
              " * process.\n",
              " * @param {string} inputId Element ID of the input file picker element.\n",
              " * @param {string} outputId Element ID of the output display.\n",
              " * @return {!Iterable<!Object>} Iterable of next steps.\n",
              " */\n",
              "function* uploadFilesStep(inputId, outputId) {\n",
              "  const inputElement = document.getElementById(inputId);\n",
              "  inputElement.disabled = false;\n",
              "\n",
              "  const outputElement = document.getElementById(outputId);\n",
              "  outputElement.innerHTML = '';\n",
              "\n",
              "  const pickedPromise = new Promise((resolve) => {\n",
              "    inputElement.addEventListener('change', (e) => {\n",
              "      resolve(e.target.files);\n",
              "    });\n",
              "  });\n",
              "\n",
              "  const cancel = document.createElement('button');\n",
              "  inputElement.parentElement.appendChild(cancel);\n",
              "  cancel.textContent = 'Cancel upload';\n",
              "  const cancelPromise = new Promise((resolve) => {\n",
              "    cancel.onclick = () => {\n",
              "      resolve(null);\n",
              "    };\n",
              "  });\n",
              "\n",
              "  // Wait for the user to pick the files.\n",
              "  const files = yield {\n",
              "    promise: Promise.race([pickedPromise, cancelPromise]),\n",
              "    response: {\n",
              "      action: 'starting',\n",
              "    }\n",
              "  };\n",
              "\n",
              "  cancel.remove();\n",
              "\n",
              "  // Disable the input element since further picks are not allowed.\n",
              "  inputElement.disabled = true;\n",
              "\n",
              "  if (!files) {\n",
              "    return {\n",
              "      response: {\n",
              "        action: 'complete',\n",
              "      }\n",
              "    };\n",
              "  }\n",
              "\n",
              "  for (const file of files) {\n",
              "    const li = document.createElement('li');\n",
              "    li.append(span(file.name, {fontWeight: 'bold'}));\n",
              "    li.append(span(\n",
              "        `(${file.type || 'n/a'}) - ${file.size} bytes, ` +\n",
              "        `last modified: ${\n",
              "            file.lastModifiedDate ? file.lastModifiedDate.toLocaleDateString() :\n",
              "                                    'n/a'} - `));\n",
              "    const percent = span('0% done');\n",
              "    li.appendChild(percent);\n",
              "\n",
              "    outputElement.appendChild(li);\n",
              "\n",
              "    const fileDataPromise = new Promise((resolve) => {\n",
              "      const reader = new FileReader();\n",
              "      reader.onload = (e) => {\n",
              "        resolve(e.target.result);\n",
              "      };\n",
              "      reader.readAsArrayBuffer(file);\n",
              "    });\n",
              "    // Wait for the data to be ready.\n",
              "    let fileData = yield {\n",
              "      promise: fileDataPromise,\n",
              "      response: {\n",
              "        action: 'continue',\n",
              "      }\n",
              "    };\n",
              "\n",
              "    // Use a chunked sending to avoid message size limits. See b/62115660.\n",
              "    let position = 0;\n",
              "    do {\n",
              "      const length = Math.min(fileData.byteLength - position, MAX_PAYLOAD_SIZE);\n",
              "      const chunk = new Uint8Array(fileData, position, length);\n",
              "      position += length;\n",
              "\n",
              "      const base64 = btoa(String.fromCharCode.apply(null, chunk));\n",
              "      yield {\n",
              "        response: {\n",
              "          action: 'append',\n",
              "          file: file.name,\n",
              "          data: base64,\n",
              "        },\n",
              "      };\n",
              "\n",
              "      let percentDone = fileData.byteLength === 0 ?\n",
              "          100 :\n",
              "          Math.round((position / fileData.byteLength) * 100);\n",
              "      percent.textContent = `${percentDone}% done`;\n",
              "\n",
              "    } while (position < fileData.byteLength);\n",
              "  }\n",
              "\n",
              "  // All done.\n",
              "  yield {\n",
              "    response: {\n",
              "      action: 'complete',\n",
              "    }\n",
              "  };\n",
              "}\n",
              "\n",
              "scope.google = scope.google || {};\n",
              "scope.google.colab = scope.google.colab || {};\n",
              "scope.google.colab._files = {\n",
              "  _uploadFiles,\n",
              "  _uploadFilesContinue,\n",
              "};\n",
              "})(self);\n",
              "</script> "
            ]
          },
          "metadata": {}
        },
        {
          "output_type": "stream",
          "name": "stdout",
          "text": [
            "Saving food_orders.csv to food_orders.csv\n"
          ]
        }
      ],
      "source": [
        "from google.colab import files\n",
        "uploaded= files.upload()"
      ]
    },
    {
      "cell_type": "code",
      "source": [
        "import pandas as pd\n",
        "df=pd.read_csv('food_orders.csv')\n",
        "print(df)"
      ],
      "metadata": {
        "colab": {
          "base_uri": "https://localhost:8080/"
        },
        "id": "FSrnL6fnxBy0",
        "outputId": "8701e5cf-4fbe-4f74-ccbf-77188865f2fd"
      },
      "execution_count": 3,
      "outputs": [
        {
          "output_type": "stream",
          "name": "stdout",
          "text": [
            "    order_id  customer_id  delivery_time  rating food_category\n",
            "0       1001            7             35       1         Pasta\n",
            "1       1002            4             47       4         Salad\n",
            "2       1003            8             26       2        Burger\n",
            "3       1004            5             36       2        Burger\n",
            "4       1005            7             58       1         Pasta\n",
            "5       1006           10             39       2        Burger\n",
            "6       1007            3             41       5        Burger\n",
            "7       1008            7             56       2         Pasta\n",
            "8       1009            8             42       4         Pasta\n",
            "9       1010            5             30       4         Pizza\n",
            "10      1011            4             29       4         Salad\n",
            "11      1012            8             58       4         Salad\n",
            "12      1013            8             17       5        Burger\n",
            "13      1014            3             51       3         Salad\n",
            "14      1015            6             21       1        Burger\n",
            "15      1016            5             35       4         Pizza\n",
            "16      1017            2             23       2         Pasta\n",
            "17      1018            8             53       4         Pasta\n",
            "18      1019            6             32       2         Pasta\n",
            "19      1020            2             18       2         Salad\n"
          ]
        }
      ]
    },
    {
      "cell_type": "code",
      "source": [
        "df['Avg_Time']=df['food_category'].map(df.groupby('food_category')['delivery_time'].mean())\n",
        "print(df)"
      ],
      "metadata": {
        "colab": {
          "base_uri": "https://localhost:8080/"
        },
        "id": "frof5U1_xYnZ",
        "outputId": "c0a2142d-a78e-463f-cd5a-21a66eb24ae5"
      },
      "execution_count": 11,
      "outputs": [
        {
          "output_type": "stream",
          "name": "stdout",
          "text": [
            "    order_id  customer_id  delivery_time  rating food_category   Avg_Time\n",
            "0       1001            7             35       1         Pasta  42.714286\n",
            "1       1002            4             47       4         Salad  40.600000\n",
            "2       1003            8             26       2        Burger  30.000000\n",
            "3       1004            5             36       2        Burger  30.000000\n",
            "4       1005            7             58       1         Pasta  42.714286\n",
            "5       1006           10             39       2        Burger  30.000000\n",
            "6       1007            3             41       5        Burger  30.000000\n",
            "7       1008            7             56       2         Pasta  42.714286\n",
            "8       1009            8             42       4         Pasta  42.714286\n",
            "9       1010            5             30       4         Pizza  32.500000\n",
            "10      1011            4             29       4         Salad  40.600000\n",
            "11      1012            8             58       4         Salad  40.600000\n",
            "12      1013            8             17       5        Burger  30.000000\n",
            "13      1014            3             51       3         Salad  40.600000\n",
            "14      1015            6             21       1        Burger  30.000000\n",
            "15      1016            5             35       4         Pizza  32.500000\n",
            "16      1017            2             23       2         Pasta  42.714286\n",
            "17      1018            8             53       4         Pasta  42.714286\n",
            "18      1019            6             32       2         Pasta  42.714286\n",
            "19      1020            2             18       2         Salad  40.600000\n"
          ]
        }
      ]
    },
    {
      "cell_type": "code",
      "source": [
        "most_ordered_category = df['food_category'].value_counts().idxmax()\n",
        "print(most_ordered_category)"
      ],
      "metadata": {
        "colab": {
          "base_uri": "https://localhost:8080/"
        },
        "id": "_SEIAnu7yUnF",
        "outputId": "eb0c208e-b0b9-4f82-ca2c-ddd5f0b7cbe3"
      },
      "execution_count": 14,
      "outputs": [
        {
          "output_type": "stream",
          "name": "stdout",
          "text": [
            "Pasta\n"
          ]
        }
      ]
    },
    {
      "cell_type": "code",
      "source": [
        "import matplotlib.pyplot as plt\n",
        "\n",
        "plt.hist(df['delivery_time'])\n",
        "plt.xlabel('DeliveryTime')\n"
      ],
      "metadata": {
        "colab": {
          "base_uri": "https://localhost:8080/",
          "height": 467
        },
        "id": "9nSg_kry1o2C",
        "outputId": "240e42fe-76cf-46be-c8fa-2d6ba64bd498"
      },
      "execution_count": 18,
      "outputs": [
        {
          "output_type": "execute_result",
          "data": {
            "text/plain": [
              "Text(0.5, 0, 'DeliveryTime')"
            ]
          },
          "metadata": {},
          "execution_count": 18
        },
        {
          "output_type": "display_data",
          "data": {
            "text/plain": [
              "<Figure size 640x480 with 1 Axes>"
            ],
            "image/png": "[encoded data removed]"
          },
          "metadata": {}
        }
      ]
    },
    {
      "cell_type": "code",
      "source": [
        "# Get count of each rating\n",
        "rating_counts = df['rating'].value_counts().sort_index()\n",
        "\n",
        "# Plot pie chart\n",
        "plt.figure(figsize=(6, 6))\n",
        "plt.pie(rating_counts, labels=rating_counts.index, autopct='%1.1f%%', startangle=140)\n",
        "plt.title('Rating Distribution (1–5 Stars)')\n",
        "plt.axis('equal')"
      ],
      "metadata": {
        "colab": {
          "base_uri": "https://localhost:8080/",
          "height": 594
        },
        "id": "1UCYFKn-192C",
        "outputId": "3fb548bc-18b3-4424-bef9-5537e6eb619a"
      },
      "execution_count": 19,
      "outputs": [
        {
          "output_type": "execute_result",
          "data": {
            "text/plain": [
              "(np.float64(-1.0999984902204931),\n",
              " np.float64(1.099997784167485),\n",
              " np.float64(-1.0999965531996274),\n",
              " np.float64(1.0999963862112816))"
            ]
          },
          "metadata": {},
          "execution_count": 19
        },
        {
          "output_type": "display_data",
          "data": {
            "text/plain": [
              "<Figure size 600x600 with 1 Axes>"
            ],
            "image/png": "[encoded data removed]"
          },
          "metadata": {}
        }
      ]
    },
    {
      "cell_type": "code",
      "source": [],
      "metadata": {
        "id": "l4bqnlgH2k2G"
      },
      "execution_count": null,
      "outputs": []
    }
  ]
}